{
 "cells": [
  {
   "cell_type": "markdown",
   "metadata": {},
   "source": [
    "<font size =33 color=\"blue\"><center>Maratona Data Science</h1></font>\n",
    "<h1>Strings</h1>"
   ]
  },
  {
   "cell_type": "code",
   "execution_count": 22,
   "metadata": {},
   "outputs": [
    {
     "name": "stdout",
     "output_type": "stream",
     "text": [
      "<class 'str'>\n"
     ]
    }
   ],
   "source": [
    "#Manipulando Strings\n",
    "#Criação de uma strig e pedindo que o python imprima na tela seu tipo\n",
    "\n",
    "palavra = ''\n",
    "print(type(palavra))"
   ]
  },
  {
   "cell_type": "code",
   "execution_count": 23,
   "metadata": {},
   "outputs": [
    {
     "name": "stdout",
     "output_type": "stream",
     "text": [
      "ARVORE\n"
     ]
    }
   ],
   "source": [
    "#Transformando uma String \n",
    "palavra = 'Arvore'\n",
    "palavra = palavra.upper()\n",
    "print(palavra)"
   ]
  },
  {
   "cell_type": "code",
   "execution_count": 24,
   "metadata": {},
   "outputs": [
    {
     "name": "stdout",
     "output_type": "stream",
     "text": [
      "arvore\n"
     ]
    }
   ],
   "source": [
    "palavra = palavra.lower()\n",
    "print(palavra)"
   ]
  },
  {
   "cell_type": "code",
   "execution_count": 25,
   "metadata": {},
   "outputs": [
    {
     "name": "stdout",
     "output_type": "stream",
     "text": [
      "Arvore\n"
     ]
    }
   ],
   "source": [
    "palavra = palavra.capitalize()\n",
    "print(palavra)"
   ]
  },
  {
   "cell_type": "code",
   "execution_count": 27,
   "metadata": {},
   "outputs": [
    {
     "name": "stdout",
     "output_type": "stream",
     "text": [
      "A\n"
     ]
    }
   ],
   "source": [
    "letra = palavra[0]\n",
    "print(letra)"
   ]
  },
  {
   "cell_type": "code",
   "execution_count": 30,
   "metadata": {},
   "outputs": [
    {
     "data": {
      "text/plain": [
       "2"
      ]
     },
     "execution_count": 30,
     "metadata": {},
     "output_type": "execute_result"
    }
   ],
   "source": [
    "#Contando os caracteres específico de uma String\n",
    "palavra.count('r')"
   ]
  },
  {
   "cell_type": "code",
   "execution_count": 31,
   "metadata": {},
   "outputs": [
    {
     "data": {
      "text/plain": [
       "6"
      ]
     },
     "execution_count": 31,
     "metadata": {},
     "output_type": "execute_result"
    }
   ],
   "source": [
    "#Verificando o tamanho de uma string\n",
    "len(palavra)"
   ]
  },
  {
   "cell_type": "code",
   "execution_count": 32,
   "metadata": {},
   "outputs": [
    {
     "data": {
      "text/plain": [
       "'A1vo1e'"
      ]
     },
     "execution_count": 32,
     "metadata": {},
     "output_type": "execute_result"
    }
   ],
   "source": [
    "palvra.replace('r', '1')"
   ]
  },
  {
   "cell_type": "code",
   "execution_count": 33,
   "metadata": {},
   "outputs": [
    {
     "data": {
      "text/plain": [
       "['Amanhã', 'vai', 'chover']"
      ]
     },
     "execution_count": 33,
     "metadata": {},
     "output_type": "execute_result"
    }
   ],
   "source": [
    "palavra = 'Amanhã vai chover'\n",
    "palavra.split()"
   ]
  },
  {
   "cell_type": "code",
   "execution_count": 36,
   "metadata": {},
   "outputs": [
    {
     "data": {
      "text/plain": [
       "True"
      ]
     },
     "execution_count": 36,
     "metadata": {},
     "output_type": "execute_result"
    }
   ],
   "source": [
    "'i' in palavra"
   ]
  },
  {
   "cell_type": "code",
   "execution_count": 37,
   "metadata": {},
   "outputs": [
    {
     "name": "stdout",
     "output_type": "stream",
     "text": [
      "A\n",
      "m\n",
      "a\n",
      "n\n",
      "h\n",
      "ã\n",
      " \n",
      "v\n",
      "a\n",
      "i\n",
      " \n",
      "c\n",
      "h\n",
      "o\n",
      "v\n",
      "e\n",
      "r\n"
     ]
    }
   ],
   "source": [
    "for letra in palavra:\n",
    "    print(letra)"
   ]
  },
  {
   "cell_type": "code",
   "execution_count": 30,
   "metadata": {},
   "outputs": [
    {
     "name": "stdout",
     "output_type": "stream",
     "text": [
      "Maratona Data Sciense\n",
      "-----------------------\n",
      "esneicS ataD anotaraM\n"
     ]
    }
   ],
   "source": [
    "#Inverso de uma string - \n",
    "S = 'Maratona Data Sciense'\n",
    "print(S)\n",
    "print('-----------------------')\n",
    "print(S[::-1])\n",
    "\n"
   ]
  },
  {
   "cell_type": "code",
   "execution_count": 23,
   "metadata": {},
   "outputs": [
    {
     "name": "stdout",
     "output_type": "stream",
     "text": [
      "7\n",
      "ABCDE\n",
      "ABCDA\n",
      "4\n"
     ]
    }
   ],
   "source": [
    "#exercício vestibular\n",
    "\n",
    "#Dados de Entrada\n",
    "N = int(input())\n",
    "oficial = input()\n",
    "candidato = input()\n",
    "\n",
    "#Processamento\n",
    "total = 0\n",
    "for o, c in zip(oficial, candidato):\n",
    "    if o == c:\n",
    "        total += 1\n",
    "#saída\n",
    "print(total)"
   ]
  },
  {
   "cell_type": "code",
   "execution_count": 37,
   "metadata": {},
   "outputs": [
    {
     "name": "stdout",
     "output_type": "stream",
     "text": [
      "hahaha\n",
      "S\n"
     ]
    }
   ],
   "source": [
    "#exercício\n",
    "\n",
    "#Entrada\n",
    "S =  input()\n",
    "R = ''\n",
    "\n",
    "#processamento \n",
    "vogais = ['a', 'e', 'i', 'o', 'u']\n",
    "\n",
    "for c in S:\n",
    "    if c in vogais:\n",
    "        R += c\n",
    "#saída\n",
    "if R == R[::-1]:\n",
    "    print('S')\n",
    "else:\n",
    "    print('N')\n"
   ]
  },
  {
   "cell_type": "markdown",
   "metadata": {},
   "source": [
    "\n",
    "\n",
    "\n",
    "\n",
    "\n",
    "\n",
    "\n",
    "<h6>Alexandre Santos&#174;<br/>\n",
    "By 2018</h6>"
   ]
  }
 ],
 "metadata": {
  "kernelspec": {
   "display_name": "Python 3",
   "language": "python",
   "name": "python3"
  },
  "language_info": {
   "codemirror_mode": {
    "name": "ipython",
    "version": 3
   },
   "file_extension": ".py",
   "mimetype": "text/x-python",
   "name": "python",
   "nbconvert_exporter": "python",
   "pygments_lexer": "ipython3",
   "version": "3.7.0"
  }
 },
 "nbformat": 4,
 "nbformat_minor": 2
}

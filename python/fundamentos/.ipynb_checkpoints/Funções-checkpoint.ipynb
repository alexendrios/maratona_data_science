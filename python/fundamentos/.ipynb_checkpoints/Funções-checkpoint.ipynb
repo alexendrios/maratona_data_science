{
 "cells": [
  {
   "cell_type": "markdown",
   "metadata": {},
   "source": [
    "<font size =33 color=\"blue\"><center>Maratona Data Science</h1></font>\n",
    "<h1>Funções</h1>"
   ]
  },
  {
   "cell_type": "code",
   "execution_count": 1,
   "metadata": {},
   "outputs": [
    {
     "name": "stdout",
     "output_type": "stream",
     "text": [
      "O valor de X: 5\n"
     ]
    }
   ],
   "source": [
    "#criando funções\n",
    "\n",
    "def funcao(x):\n",
    "    print('O valor de X:', x)\n",
    "    \n",
    "#utilizando uma funcao\n",
    "\n",
    "funcao(5)"
   ]
  },
  {
   "cell_type": "code",
   "execution_count": 4,
   "metadata": {},
   "outputs": [
    {
     "data": {
      "text/plain": [
       "13"
      ]
     },
     "execution_count": 4,
     "metadata": {},
     "output_type": "execute_result"
    }
   ],
   "source": [
    "def calculo(x, y):\n",
    "    cal = x**2 + y**2\n",
    "    return cal\n",
    "    \n",
    "#utilizando uma funcao\n",
    "\n",
    "calculo(2,3)"
   ]
  },
  {
   "cell_type": "code",
   "execution_count": 11,
   "metadata": {},
   "outputs": [
    {
     "name": "stdout",
     "output_type": "stream",
     "text": [
      "(13, 4, 9)\n",
      "\n",
      "--------------------\n",
      "13\n",
      "13\n",
      "\n",
      "--------------------\n",
      "13\n",
      "4\n"
     ]
    }
   ],
   "source": [
    "#retornando multiplos\n",
    "\n",
    "def calculo(x, y):\n",
    "    cal = x**2 + y**2\n",
    "    return cal, x**2, y**2\n",
    "    \n",
    "#utilizando uma funcao\n",
    "\n",
    "resp = calculo(2,3)\n",
    "print(resp)\n",
    "#nota - se que retorna uma tupla\n",
    "\n",
    "print('\\n--------------------')\n",
    "#pegando somente um valor do retorno\n",
    "print(resp[0])\n",
    "#retornando somente o primeiro resultado\n",
    "resp, *_ = calculo(2,3)\n",
    "print(resp)\n",
    "print('\\n--------------------')\n",
    "#quardando em variáveis\n",
    "resp, x_quadrado, *_ = calculo(2,3)\n",
    "print(resp)\n",
    "print(x_quadrado)"
   ]
  },
  {
   "cell_type": "code",
   "execution_count": null,
   "metadata": {},
   "outputs": [],
   "source": [
    "#Módulo para armazenar funções em python\n",
    "import modulo\n",
    "#importa o modulos \n",
    "from modulo import calculo"
   ]
  },
  {
   "cell_type": "code",
   "execution_count": 6,
   "metadata": {},
   "outputs": [
    {
     "name": "stdout",
     "output_type": "stream",
     "text": [
      "3\n",
      "6\n"
     ]
    }
   ],
   "source": [
    "#exercício fatorial\n",
    "from math import factorial\n",
    "\n",
    "def fatorial(N):\n",
    "    return factorial(N)\n",
    "   \n",
    "\n",
    "N = int(input())\n",
    "print(fatorial(N))"
   ]
  },
  {
   "cell_type": "code",
   "execution_count": 17,
   "metadata": {},
   "outputs": [
    {
     "name": "stdout",
     "output_type": "stream",
     "text": [
      "10\n",
      "N\n"
     ]
    }
   ],
   "source": [
    "#exercício número primo\n",
    "\n",
    "def eh_primo(x):\n",
    "    total = 0\n",
    "    for i in range(1, x +1):\n",
    "        if x % i == 0:\n",
    "            total += 1\n",
    "    if total == 2:\n",
    "        return True\n",
    "    else:\n",
    "        return False \n",
    "\n",
    "x = int(input())\n",
    "if eh_primo(x):\n",
    "    print('S')\n",
    "else:\n",
    "    print('N')"
   ]
  },
  {
   "cell_type": "markdown",
   "metadata": {},
   "source": [
    "\n",
    "\n",
    "\n",
    "\n",
    "\n",
    "\n",
    "\n",
    "<h6>Alexandre Santos&#174;<br/>\n",
    "By 2018</h6>"
   ]
  }
 ],
 "metadata": {
  "kernelspec": {
   "display_name": "Python 3",
   "language": "python",
   "name": "python3"
  },
  "language_info": {
   "codemirror_mode": {
    "name": "ipython",
    "version": 3
   },
   "file_extension": ".py",
   "mimetype": "text/x-python",
   "name": "python",
   "nbconvert_exporter": "python",
   "pygments_lexer": "ipython3",
   "version": "3.7.0"
  }
 },
 "nbformat": 4,
 "nbformat_minor": 2
}

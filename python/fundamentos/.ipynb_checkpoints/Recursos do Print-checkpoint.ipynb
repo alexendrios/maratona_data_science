{
 "cells": [
  {
   "cell_type": "markdown",
   "metadata": {},
   "source": [
    "<font size =33 color=\"blue\"><center>Maratona Data Science</h1></font>\n",
    "<h1>Recursos do Print</h1>"
   ]
  },
  {
   "cell_type": "code",
   "execution_count": 4,
   "metadata": {},
   "outputs": [],
   "source": [
    "#Trabalhando com Operações\n",
    "A = 10\n",
    "B = 20"
   ]
  },
  {
   "cell_type": "code",
   "execution_count": 9,
   "metadata": {},
   "outputs": [
    {
     "name": "stdout",
     "output_type": "stream",
     "text": [
      "a soma de A + B = 30\n"
     ]
    }
   ],
   "source": [
    "#Saída no console\n",
    "print('a soma de A + B =', A + B)"
   ]
  },
  {
   "cell_type": "code",
   "execution_count": 7,
   "metadata": {},
   "outputs": [
    {
     "name": "stdout",
     "output_type": "stream",
     "text": [
      "A soma de A + B = 30\n"
     ]
    }
   ],
   "source": [
    "#Saída de acordo mais elegante\n",
    "print('A soma de A + B = {}'.format(A + B))"
   ]
  },
  {
   "cell_type": "code",
   "execution_count": 16,
   "metadata": {},
   "outputs": [
    {
     "name": "stdout",
     "output_type": "stream",
     "text": [
      "Temos dois números A = 10  e B = 20 Com esses Valores Temos:\n",
      "\n",
      "Soma =\t\t30\n",
      "Subtração =\t-10\n",
      "Multiplicação =\t200\n",
      "Divisão =\t0.5\n"
     ]
    }
   ],
   "source": [
    "#saídas de várias Operações\n",
    "print('Temos dois números A =', A, ' e B =', B, 'Com esses Valores Temos:\\n\\nSoma =\\t\\t{}\\nSubtração =\\t{}\\nMultiplicação =\\t{}\\nDivisão =\\t{}'.format(\n",
    "    (A + B), (A - B), (A * B), (A / B)))"
   ]
  },
  {
   "cell_type": "code",
   "execution_count": 18,
   "metadata": {},
   "outputs": [],
   "source": [
    "#Formatando a saída\n",
    "#Exemplo de divisão com resultado float onde o sistema necessita apenas de duas casas decimais\n",
    "A = 4\n",
    "B = 3\n",
    "divisao = A / B"
   ]
  },
  {
   "cell_type": "code",
   "execution_count": 20,
   "metadata": {},
   "outputs": [
    {
     "name": "stdout",
     "output_type": "stream",
     "text": [
      "A divisão de 4 e 3 tem o seguinte resultado 1.3333333333333333\n"
     ]
    }
   ],
   "source": [
    "#Saída normal\n",
    "print('A divisão de', A, 'e',  B, 'tem o seguinte resultado {}'.format(divisao))"
   ]
  },
  {
   "cell_type": "code",
   "execution_count": 21,
   "metadata": {},
   "outputs": [
    {
     "name": "stdout",
     "output_type": "stream",
     "text": [
      "A divisão de 4 e 3 tem o seguinte resultado 1.33\n"
     ]
    }
   ],
   "source": [
    "#Formatando com duas casas decimais\n",
    "print('A divisão de', A, 'e',  B, 'tem o seguinte resultado {:.2f}'.format(divisao))"
   ]
  },
  {
   "cell_type": "code",
   "execution_count": 22,
   "metadata": {},
   "outputs": [
    {
     "name": "stdout",
     "output_type": "stream",
     "text": [
      "Alexandre\n",
      "Santos\n"
     ]
    }
   ],
   "source": [
    "#Aspectos interessante sobre a função print()\n",
    "#Observa - se que toda vez para executar um print ele pula uma linha, pois ele em seu caráctere final tem um /n\n",
    "#Exemplo\n",
    "print('Alexandre')\n",
    "print('Santos')"
   ]
  },
  {
   "cell_type": "code",
   "execution_count": 24,
   "metadata": {},
   "outputs": [
    {
     "name": "stdout",
     "output_type": "stream",
     "text": [
      "Alexandre Santos\n"
     ]
    }
   ],
   "source": [
    "#Para mudar essa saída devemos mudar o Caráctere final\n",
    "#Exemplo\n",
    "print('Alexandre', end=' ')\n",
    "print('Santos')"
   ]
  },
  {
   "cell_type": "markdown",
   "metadata": {},
   "source": [
    "\n",
    "\n",
    "\n",
    "\n",
    "\n",
    "\n",
    "\n",
    "<h6>Alexandre Santos&#174;<br/>\n",
    "By 2018</h6>"
   ]
  }
 ],
 "metadata": {
  "kernelspec": {
   "display_name": "Python 3",
   "language": "python",
   "name": "python3"
  },
  "language_info": {
   "codemirror_mode": {
    "name": "ipython",
    "version": 3
   },
   "file_extension": ".py",
   "mimetype": "text/x-python",
   "name": "python",
   "nbconvert_exporter": "python",
   "pygments_lexer": "ipython3",
   "version": "3.7.0"
  }
 },
 "nbformat": 4,
 "nbformat_minor": 2
}

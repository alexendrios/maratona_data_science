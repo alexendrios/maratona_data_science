{
 "cells": [
  {
   "cell_type": "markdown",
   "metadata": {},
   "source": [
    "<font size =33 color=\"blue\"><center>Maratona Data Science</h1></font>\n",
    "<h1>Estruturas de Repetição</h1>"
   ]
  },
  {
   "cell_type": "code",
   "execution_count": 1,
   "metadata": {},
   "outputs": [
    {
     "name": "stdout",
     "output_type": "stream",
     "text": [
      "0\n",
      "1\n",
      "2\n",
      "3\n",
      "4\n"
     ]
    }
   ],
   "source": [
    "#Exemplo de estrutura de Repetição: Contando de 0 a 5\n",
    "#Estrutura while\n",
    "v = 0\n",
    "while v <= 5:\n",
    "    print(v)\n",
    "    v += 1"
   ]
  },
  {
   "cell_type": "code",
   "execution_count": 2,
   "metadata": {},
   "outputs": [
    {
     "name": "stdout",
     "output_type": "stream",
     "text": [
      "1\n",
      "2\n",
      "3\n"
     ]
    }
   ],
   "source": [
    "#estrutura for\n",
    "\n",
    "for i in [1, 2, 3]:\n",
    "    print(i)"
   ]
  },
  {
   "cell_type": "code",
   "execution_count": 3,
   "metadata": {},
   "outputs": [
    {
     "name": "stdout",
     "output_type": "stream",
     "text": [
      "1\n",
      "2\n",
      "3\n",
      "4\n",
      "5\n",
      "6\n",
      "7\n",
      "8\n",
      "9\n"
     ]
    }
   ],
   "source": [
    "#exemplo 2 - utilizando a função range e passando os valores do intervalo\n",
    "for i in range(1, 10):\n",
    "    print(i)"
   ]
  },
  {
   "cell_type": "code",
   "execution_count": 5,
   "metadata": {},
   "outputs": [
    {
     "name": "stdout",
     "output_type": "stream",
     "text": [
      "1\n",
      "11\n",
      "21\n",
      "31\n",
      "41\n",
      "51\n",
      "61\n",
      "71\n",
      "81\n",
      "91\n"
     ]
    }
   ],
   "source": [
    "#exemplo 3 - utilizando a função range e passando os valores do intervalo com incremento\n",
    "for i in range(1, 100, 10):\n",
    "    print(i)"
   ]
  },
  {
   "cell_type": "code",
   "execution_count": 7,
   "metadata": {},
   "outputs": [
    {
     "name": "stdout",
     "output_type": "stream",
     "text": [
      "range(0, 10)\n"
     ]
    }
   ],
   "source": [
    "#range não é uma lista\n",
    "x = range(10)\n",
    "print(x)"
   ]
  },
  {
   "cell_type": "code",
   "execution_count": 8,
   "metadata": {},
   "outputs": [
    {
     "name": "stdout",
     "output_type": "stream",
     "text": [
      "[0, 1, 2, 3, 4, 5, 6, 7, 8, 9]\n"
     ]
    }
   ],
   "source": [
    "#Para representar a lista em um intervalo basta converter\n",
    "x = list(x)\n",
    "print(x)"
   ]
  },
  {
   "cell_type": "code",
   "execution_count": 16,
   "metadata": {},
   "outputs": [
    {
     "name": "stdout",
     "output_type": "stream",
     "text": [
      "1\n",
      "1 2 3\n",
      "6\n"
     ]
    }
   ],
   "source": [
    "#exercício - Resolução 1\n",
    "\n",
    "#entrada de dados\n",
    "N = int(input())\n",
    "V = input().split()\n",
    "\n",
    "for i in range(len(V)):\n",
    "    V[i] = int(V[i])\n",
    "\n",
    "#Processamento\n",
    "total = 0\n",
    "for elemento in V:\n",
    "    total += elemento\n",
    "\n",
    "#Saída do Processamento\n",
    "print(total)\n"
   ]
  },
  {
   "cell_type": "code",
   "execution_count": 18,
   "metadata": {},
   "outputs": [
    {
     "name": "stdout",
     "output_type": "stream",
     "text": [
      "1\n",
      "1 2 3\n",
      "6\n"
     ]
    }
   ],
   "source": [
    "#exercício - Resolução 2\n",
    "\n",
    "#entrada de dados\n",
    "V = int(input())\n",
    "V = input().split()\n",
    "\n",
    "for i in range(len(V)):\n",
    "    V[i] = int(V[i])\n",
    "\n",
    "#Processamento\n",
    "total = sum(V)\n",
    "\n",
    "\n",
    "#Saída do Processamento\n",
    "print(total)"
   ]
  },
  {
   "cell_type": "code",
   "execution_count": 7,
   "metadata": {},
   "outputs": [
    {
     "name": "stdout",
     "output_type": "stream",
     "text": [
      "5\n",
      "100\n",
      "99900\n",
      "400000\n",
      "500000\n",
      "600000 \n",
      "4\n"
     ]
    }
   ],
   "source": [
    "#exercício - Consolidando o aprendizado\n",
    "\n",
    "#Entrada\n",
    "N = int(input())\n",
    "visualizacoes = []\n",
    "\n",
    "for i in range(N):\n",
    "    A = int(input())\n",
    "    visualizacoes.append(A)\n",
    "\n",
    "#Processamento\n",
    "total = 0\n",
    "resposta = -1\n",
    "for i, v in enumerate(visualizacoes):\n",
    "    dia = i + 1\n",
    "    total = total + v\n",
    "    if total >= 1000000 and resposta == -1:\n",
    "        resposta = dia\n",
    "        \n",
    "#Saída do programa\n",
    "print(resposta)\n"
   ]
  },
  {
   "cell_type": "code",
   "execution_count": 23,
   "metadata": {},
   "outputs": [
    {
     "name": "stdout",
     "output_type": "stream",
     "text": [
      "3\n",
      "1 2 2\n",
      "1\n",
      "0\n"
     ]
    }
   ],
   "source": [
    "#Exercício 2\n",
    "#Entrada de Dados\n",
    "N = int(input())\n",
    "L = input().split()\n",
    "\n",
    "#Processamento\n",
    "A = 0\n",
    "B = 0\n",
    "\n",
    "for acao in L:\n",
    "    if (acao == '1'):\n",
    "        if A == 1:\n",
    "            A = 0\n",
    "        else:\n",
    "            A = 1\n",
    "                \n",
    "    elif acao == '2':\n",
    "        if A == 1:\n",
    "            A = 0\n",
    "        else:\n",
    "            A = 1\n",
    "        if B == 1:\n",
    "            B = 0\n",
    "        else:\n",
    "            B = 1\n",
    "    \n",
    "#Saída do Programa\n",
    "print(A)\n",
    "print(B)"
   ]
  },
  {
   "cell_type": "code",
   "execution_count": 29,
   "metadata": {},
   "outputs": [
    {
     "name": "stdout",
     "output_type": "stream",
     "text": [
      "3\n",
      "1 1 2\n",
      "1\n",
      "1\n"
     ]
    }
   ],
   "source": [
    "#Melhorando o Código Anterior\n",
    "#Entrada de Dados\n",
    "N = int(input())\n",
    "L = input().split()\n",
    "\n",
    "#Processamento\n",
    "A = 0\n",
    "B = 0\n",
    "\n",
    "for acao in L:\n",
    "    if (acao == '1'):\n",
    "        A = 1 if A == 0 else 0 \n",
    "        # A = x if condição else y\n",
    "                \n",
    "    elif acao == '2':\n",
    "        A = 1 if A == 0 else 0 \n",
    "        B = 1 if B == 0 else 0 \n",
    "        \n",
    "    \n",
    "#Saída do Programa\n",
    "print(A)\n",
    "print(B)"
   ]
  },
  {
   "cell_type": "markdown",
   "metadata": {},
   "source": [
    "\n",
    "\n",
    "\n",
    "\n",
    "\n",
    "\n",
    "\n",
    "<h6>Alexandre Santos&#174;<br/>\n",
    "By 2018</h6>"
   ]
  }
 ],
 "metadata": {
  "kernelspec": {
   "display_name": "Python 3",
   "language": "python",
   "name": "python3"
  },
  "language_info": {
   "codemirror_mode": {
    "name": "ipython",
    "version": 3
   },
   "file_extension": ".py",
   "mimetype": "text/x-python",
   "name": "python",
   "nbconvert_exporter": "python",
   "pygments_lexer": "ipython3",
   "version": "3.7.0"
  }
 },
 "nbformat": 4,
 "nbformat_minor": 2
}

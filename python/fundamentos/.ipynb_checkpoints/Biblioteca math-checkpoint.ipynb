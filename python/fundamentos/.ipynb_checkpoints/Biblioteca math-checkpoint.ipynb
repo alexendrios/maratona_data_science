{
 "cells": [
  {
   "cell_type": "markdown",
   "metadata": {},
   "source": [
    "<font size =33 color=\"blue\"><center>Maratona Data Science</h1></font>\n",
    "<h1>Biblioteca Math</h1>"
   ]
  },
  {
   "cell_type": "code",
   "execution_count": 9,
   "metadata": {},
   "outputs": [],
   "source": [
    "#para trabalhar com biblioteca math tem que realizar o import\n",
    "import math"
   ]
  },
  {
   "cell_type": "code",
   "execution_count": 10,
   "metadata": {},
   "outputs": [
    {
     "name": "stdout",
     "output_type": "stream",
     "text": [
      "11\n"
     ]
    }
   ],
   "source": [
    "#teto de um número\n",
    "\n",
    "print(math.ceil(10.5))"
   ]
  },
  {
   "cell_type": "code",
   "execution_count": 11,
   "metadata": {},
   "outputs": [
    {
     "name": "stdout",
     "output_type": "stream",
     "text": [
      "10\n"
     ]
    }
   ],
   "source": [
    "#piso de um número\n",
    "\n",
    "print(math.floor(10.5))"
   ]
  },
  {
   "cell_type": "code",
   "execution_count": 12,
   "metadata": {},
   "outputs": [
    {
     "name": "stdout",
     "output_type": "stream",
     "text": [
      "120\n"
     ]
    }
   ],
   "source": [
    "#fatorialde um número\n",
    "\n",
    "print(math.factorial(5))"
   ]
  },
  {
   "cell_type": "code",
   "execution_count": 13,
   "metadata": {},
   "outputs": [
    {
     "name": "stdout",
     "output_type": "stream",
     "text": [
      "8.0\n",
      "8\n"
     ]
    }
   ],
   "source": [
    "#potência um número\n",
    "\n",
    "print(math.pow(2, 3))\n",
    "#O método pow transforma em um número float\n",
    "print(2**3)\n",
    "# para utilizar caso queira um valor inteiro"
   ]
  },
  {
   "cell_type": "code",
   "execution_count": 15,
   "metadata": {},
   "outputs": [
    {
     "name": "stdout",
     "output_type": "stream",
     "text": [
      "5.0\n"
     ]
    }
   ],
   "source": [
    "#calcular raiz quadrada\n",
    "print(math.sqrt(25))"
   ]
  },
  {
   "cell_type": "code",
   "execution_count": 16,
   "metadata": {},
   "outputs": [
    {
     "name": "stdout",
     "output_type": "stream",
     "text": [
      "5\n"
     ]
    }
   ],
   "source": [
    "#MDc\n",
    "print(math.gcd(10, 5))"
   ]
  },
  {
   "cell_type": "code",
   "execution_count": 18,
   "metadata": {},
   "outputs": [
    {
     "name": "stdout",
     "output_type": "stream",
     "text": [
      "10\n"
     ]
    }
   ],
   "source": [
    "#importando biblioteca específica\n",
    "from math import ceil\n",
    "print(ceil(9.6))"
   ]
  },
  {
   "cell_type": "code",
   "execution_count": 39,
   "metadata": {},
   "outputs": [
    {
     "name": "stdout",
     "output_type": "stream",
     "text": [
      "6\n",
      "0.04 0.16 0.64 2.56 10.24 40.96\n",
      "0.2000\n",
      "0.4000\n",
      "0.8000\n",
      "1.6000\n",
      "3.2000\n",
      "6.4000\n"
     ]
    }
   ],
   "source": [
    "#Exercícios calculando a raiz quadrada\n",
    "from math import sqrt\n",
    "#entrada\n",
    "N = int(input())\n",
    "R = input().split()\n",
    "\n",
    "for i in range(N):\n",
    "    R[i] = sqrt(float(R[i]))\n",
    "#saída\n",
    "    print('{:.4f}'.format(R[i]))\n"
   ]
  },
  {
   "cell_type": "code",
   "execution_count": 41,
   "metadata": {},
   "outputs": [
    {
     "name": "stdout",
     "output_type": "stream",
     "text": [
      "2.5 2\n",
      "6.2500\n"
     ]
    }
   ],
   "source": [
    "#exercício 2 Potências Simples\n",
    "from math import sqrt\n",
    "#entrada\n",
    "X, Y = input().split()\n",
    "\n",
    "X = float(X)\n",
    "Y = float(Y)\n",
    "\n",
    "potencia = 0\n",
    "\n",
    "#processamento\n",
    "potencia = pow(X, Y)\n",
    "\n",
    "#saida\n",
    "print('{:.4f}'.format(potencia))\n"
   ]
  },
  {
   "cell_type": "markdown",
   "metadata": {},
   "source": [
    "\n",
    "\n",
    "\n",
    "\n",
    "\n",
    "\n",
    "\n",
    "<h6>Alexandre Santos&#174;<br/>\n",
    "By 2018</h6>"
   ]
  }
 ],
 "metadata": {
  "kernelspec": {
   "display_name": "Python 3",
   "language": "python",
   "name": "python3"
  },
  "language_info": {
   "codemirror_mode": {
    "name": "ipython",
    "version": 3
   },
   "file_extension": ".py",
   "mimetype": "text/x-python",
   "name": "python",
   "nbconvert_exporter": "python",
   "pygments_lexer": "ipython3",
   "version": "3.7.0"
  }
 },
 "nbformat": 4,
 "nbformat_minor": 2
}

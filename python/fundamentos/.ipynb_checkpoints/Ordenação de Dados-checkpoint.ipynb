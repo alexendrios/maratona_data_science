{
 "cells": [
  {
   "cell_type": "markdown",
   "metadata": {},
   "source": [
    "<font size =33 color=\"blue\"><center>Maratona Data Science</h1></font>\n",
    "<h1>Ordenação de Dados</h1>"
   ]
  },
  {
   "cell_type": "code",
   "execution_count": 13,
   "metadata": {},
   "outputs": [
    {
     "name": "stdout",
     "output_type": "stream",
     "text": [
      "[1, 10, 20, 3, 9, 7, 6]\n",
      "[1, 3, 6, 7, 9, 10, 20]\n",
      "[3, 5, 1, 2]\n",
      "[1, 2, 3, 5]\n",
      "[5, 3, 2, 1]\n"
     ]
    }
   ],
   "source": [
    "#ordenação de dados\n",
    "lista = [1, 10, 20, 3, 9, 7, 6]\n",
    "print(lista)\n",
    "print(sorted(lista))\n",
    "l = [3, 5, 1, 2]\n",
    "print(l)\n",
    "#alinhamento modo default => crescente\n",
    "l.sort()\n",
    "print(l)\n",
    "#alinhamento decrescente\n",
    "l.sort(reverse=True)\n",
    "print(l)"
   ]
  },
  {
   "cell_type": "code",
   "execution_count": 48,
   "metadata": {},
   "outputs": [
    {
     "name": "stdout",
     "output_type": "stream",
     "text": [
      "5\n",
      "1 -7 1000 2 4\n",
      "-7 1 2 4 1000 "
     ]
    }
   ],
   "source": [
    "#Exercícios - Imprima os termos de uma sequência, do menor para o maior\n",
    "#entrada\n",
    "N = int(input())\n",
    "N = input().split()\n",
    "S = []\n",
    "\n",
    "#processamento\n",
    "for i in range(len(N)):\n",
    "    a = int(N[i])\n",
    "    S.append(a)\n",
    "S.sort()\n",
    "\n",
    "#saída\n",
    "for i in range(len(S)):\n",
    "    N = S[i]\n",
    "    print(N, end=' ')"
   ]
  },
  {
   "cell_type": "markdown",
   "metadata": {},
   "source": [
    "\n",
    "\n",
    "\n",
    "\n",
    "\n",
    "\n",
    "\n",
    "<h6>Alexandre Santos&#174;<br/>\n",
    "By 2018</h6>"
   ]
  }
 ],
 "metadata": {
  "kernelspec": {
   "display_name": "Python 3",
   "language": "python",
   "name": "python3"
  },
  "language_info": {
   "codemirror_mode": {
    "name": "ipython",
    "version": 3
   },
   "file_extension": ".py",
   "mimetype": "text/x-python",
   "name": "python",
   "nbconvert_exporter": "python",
   "pygments_lexer": "ipython3",
   "version": "3.7.0"
  }
 },
 "nbformat": 4,
 "nbformat_minor": 2
}

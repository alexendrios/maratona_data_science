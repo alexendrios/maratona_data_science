{
 "cells": [
  {
   "cell_type": "markdown",
   "metadata": {},
   "source": [
    "<font size =33 color=\"blue\"><center>Maratona Data Science</h1></font>\n",
    "<h1>Manipulando Strings</h1>"
   ]
  },
  {
   "cell_type": "code",
   "execution_count": 48,
   "metadata": {},
   "outputs": [
    {
     "name": "stdout",
     "output_type": "stream",
     "text": [
      "Cur\n"
     ]
    }
   ],
   "source": [
    "#fatiando uma string\n",
    "frase = 'Curso em Vídeo'\n",
    "print(frase[:3])"
   ]
  },
  {
   "cell_type": "code",
   "execution_count": 49,
   "metadata": {},
   "outputs": [
    {
     "name": "stdout",
     "output_type": "stream",
     "text": [
      "Curso em Víde\n"
     ]
    }
   ],
   "source": [
    "frase = 'Curso em Vídeo'\n",
    "print(frase[:13])"
   ]
  },
  {
   "cell_type": "code",
   "execution_count": 50,
   "metadata": {},
   "outputs": [
    {
     "name": "stdout",
     "output_type": "stream",
     "text": [
      "Vídeo \n"
     ]
    }
   ],
   "source": [
    "frase = 'Curso em Vídeo Ouviram?'\n",
    "print(frase[9:15])"
   ]
  },
  {
   "cell_type": "code",
   "execution_count": 51,
   "metadata": {},
   "outputs": [
    {
     "name": "stdout",
     "output_type": "stream",
     "text": [
      "?marivuO oedíV me osruC\n"
     ]
    }
   ],
   "source": [
    "#invertendo\n",
    "print(frase[::-1])"
   ]
  },
  {
   "cell_type": "code",
   "execution_count": 55,
   "metadata": {},
   "outputs": [
    {
     "name": "stdout",
     "output_type": "stream",
     "text": [
      "2\n",
      "2\n",
      "3\n"
     ]
    }
   ],
   "source": [
    "#contando um caractere na frase\n",
    "print(frase.count('e'))\n",
    "print(frase.count('o'))\n",
    "\n",
    "#Contando a quantidde detodos determinados caracteres:\n",
    "print(frase.upper().count('O'))"
   ]
  },
  {
   "cell_type": "code",
   "execution_count": 27,
   "metadata": {},
   "outputs": [
    {
     "name": "stdout",
     "output_type": "stream",
     "text": [
      "14\n"
     ]
    }
   ],
   "source": [
    "#Contando o tamanho da String\n",
    "print(len(frase))"
   ]
  },
  {
   "cell_type": "code",
   "execution_count": 29,
   "metadata": {},
   "outputs": [
    {
     "name": "stdout",
     "output_type": "stream",
     "text": [
      "14\n"
     ]
    }
   ],
   "source": [
    "#retirando os espaços\n",
    "frase = '     Vida que segue     '\n",
    "print(len(frase.strip()))"
   ]
  },
  {
   "cell_type": "code",
   "execution_count": 34,
   "metadata": {},
   "outputs": [
    {
     "name": "stdout",
     "output_type": "stream",
     "text": [
      "     Vida que Prospera     \n"
     ]
    }
   ],
   "source": [
    "#trocar termos da String para imprimir, pois uma String é imutável\n",
    "print(frase.replace('segue', 'Prospera'))"
   ]
  },
  {
   "cell_type": "code",
   "execution_count": 35,
   "metadata": {},
   "outputs": [
    {
     "name": "stdout",
     "output_type": "stream",
     "text": [
      "True\n"
     ]
    }
   ],
   "source": [
    "#Verifica se uma palavras está dentro da frase\n",
    "print('Vida' in frase)\n"
   ]
  },
  {
   "cell_type": "code",
   "execution_count": 39,
   "metadata": {},
   "outputs": [
    {
     "name": "stdout",
     "output_type": "stream",
     "text": [
      "0\n",
      "5\n",
      "9\n",
      "-1\n",
      "0\n"
     ]
    }
   ],
   "source": [
    "#verifica se existe e mostra a posiçao\n",
    "frase = 'Vida que segue'\n",
    "print(frase.find('Vida'))\n",
    "print(frase.find('que'))\n",
    "print(frase.find('segue'))\n",
    "print(frase.find('vida'))\n",
    "print(frase.lower().find('vida'))"
   ]
  },
  {
   "cell_type": "markdown",
   "metadata": {},
   "source": [
    "<h6>Alexandre Santos&#174;<br/>\n",
    "By 2018</h6>"
   ]
  }
 ],
 "metadata": {
  "kernelspec": {
   "display_name": "Python 3",
   "language": "python",
   "name": "python3"
  },
  "language_info": {
   "codemirror_mode": {
    "name": "ipython",
    "version": 3
   },
   "file_extension": ".py",
   "mimetype": "text/x-python",
   "name": "python",
   "nbconvert_exporter": "python",
   "pygments_lexer": "ipython3",
   "version": "3.7.0"
  }
 },
 "nbformat": 4,
 "nbformat_minor": 2
}

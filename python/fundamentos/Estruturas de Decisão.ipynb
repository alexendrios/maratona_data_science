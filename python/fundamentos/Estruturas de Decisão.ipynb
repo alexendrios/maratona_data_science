{
 "cells": [
  {
   "cell_type": "markdown",
   "metadata": {},
   "source": [
    "<font size =33 color=\"blue\"><center>Maratona Data Science</h1></font>\n",
    "<h1>Estruturas de Decisão</h1>"
   ]
  },
  {
   "cell_type": "code",
   "execution_count": null,
   "metadata": {},
   "outputs": [],
   "source": [
    "#Trabalhando com estrutura de Decisão\n",
    "#Exemplo Verificar a média do aluno e se o mesmo foi aprovado - somente if\n",
    "\n",
    "nota = float(input(\"Insira sua nota: \"))\n",
    "\n",
    "if nota >= 7:\n",
    "    print('\\nResultado\\t--\\tAluno Aprovado!!\\n')\n",
    "    \n",
    "print('\\t\\tFinal do Semestre!!')\n"
   ]
  },
  {
   "cell_type": "code",
   "execution_count": null,
   "metadata": {},
   "outputs": [],
   "source": [
    "#Exemplo Verificar a média do aluno e se o mesmo foi aprovado ou reprovado - if/else\n",
    "\n",
    "nota = float(input(\"Insira sua nota: \"))\n",
    "\n",
    "if nota >= 7:\n",
    "    print('\\nResultado\\t--\\tAluno Aprovado!!\\n')\n",
    "else:\n",
    "    print('\\nResultado\\t--\\tAluno Reprovado!!\\n')\n",
    "    \n",
    "print('\\t\\tFinal do Semestre!!')"
   ]
  },
  {
   "cell_type": "code",
   "execution_count": null,
   "metadata": {},
   "outputs": [],
   "source": [
    "#Exemplo Verificar a média do aluno e se o mesmo foi aprovado, recuperação ou reprovado - if/elif/else\n",
    "\n",
    "nota = float(input(\"Insira sua nota: \"))\n",
    "\n",
    "if nota >= 7:\n",
    "    print('\\nResultado\\t--\\tAluno Aprovado!!\\n')\n",
    "elif nota > 4 and nota < 7:\n",
    "    print('\\nResultado\\t--\\tRecuperação!!\\n')\n",
    "else:\n",
    "    print('\\nResultado\\t--\\tAluno Reprovado!!\\n')\n",
    "    \n",
    "print('\\t\\tFinal do Semestre!!')"
   ]
  },
  {
   "cell_type": "markdown",
   "metadata": {},
   "source": [
    "<font color='red'><b># Nota - de que foi utilizado os operadores lógicos que são: and, or e not</font></b>"
   ]
  },
  {
   "cell_type": "code",
   "execution_count": 1,
   "metadata": {},
   "outputs": [
    {
     "name": "stdout",
     "output_type": "stream",
     "text": [
      "0 1\n",
      "C\n"
     ]
    }
   ],
   "source": [
    "#exercío da Bolinha\n",
    "#Atribuir valor 0 ou 1 para a variável P ou R\n",
    "P, R = input().split()\n",
    "\n",
    "P = int(P)\n",
    "R = int(R)\n",
    "\n",
    "if P == 0:\n",
    "    print('C')\n",
    "elif R == 0:\n",
    "    print('B')\n",
    "else:\n",
    "    print('A')"
   ]
  },
  {
   "cell_type": "markdown",
   "metadata": {},
   "source": [
    "\n",
    "\n",
    "\n",
    "\n",
    "\n",
    "\n",
    "\n",
    "<h6>Alexandre Santos&#174;<br/>\n",
    "By 2018</h6>"
   ]
  }
 ],
 "metadata": {
  "kernelspec": {
   "display_name": "Python 3",
   "language": "python",
   "name": "python3"
  },
  "language_info": {
   "codemirror_mode": {
    "name": "ipython",
    "version": 3
   },
   "file_extension": ".py",
   "mimetype": "text/x-python",
   "name": "python",
   "nbconvert_exporter": "python",
   "pygments_lexer": "ipython3",
   "version": "3.7.0"
  }
 },
 "nbformat": 4,
 "nbformat_minor": 2
}

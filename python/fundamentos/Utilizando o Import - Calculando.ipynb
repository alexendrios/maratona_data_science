{
 "cells": [
  {
   "cell_type": "markdown",
   "metadata": {},
   "source": [
    "<font size =33 color=\"blue\"><center>Maratona Data Science</h1></font>\n",
    "<h1>Utilizando o Import </h1>"
   ]
  },
  {
   "cell_type": "code",
   "execution_count": 10,
   "metadata": {},
   "outputs": [
    {
     "name": "stdout",
     "output_type": "stream",
     "text": [
      "0.43983900428003053\n",
      "3\n"
     ]
    }
   ],
   "source": [
    "#trabalhando com a Biblioteca random\n",
    "import random\n",
    "numero = random.random()\n",
    "print(numero)\n",
    "#Gera um número aleatório float\n",
    "\n",
    "numero = random.randint(0, 10)\n",
    "print(numero)"
   ]
  },
  {
   "cell_type": "code",
   "execution_count": 11,
   "metadata": {},
   "outputs": [
    {
     "name": "stdout",
     "output_type": "stream",
     "text": [
      "Entre com o número Flutuante: 9.123\n",
      "O valor digitado foi 9.123 e sua porção inteira é: 9\n"
     ]
    }
   ],
   "source": [
    "#trabalhando com a biblioteca math\n",
    "import math\n",
    "\n",
    "#entrada\n",
    "numero = float(input('Entre com o número Flutuante: '))\n",
    "\n",
    "#processamento\n",
    "inteira = math.trunc(numero)\n",
    "\n",
    "#saida\n",
    "print('O valor digitado foi {} e sua porção inteira é: {}'.format(numero, inteira))\n",
    "\n",
    "#Nota - se que a saída vai ser a parte inteira de um número flutuante"
   ]
  },
  {
   "cell_type": "code",
   "execution_count": 13,
   "metadata": {},
   "outputs": [
    {
     "name": "stdout",
     "output_type": "stream",
     "text": [
      "Comprimento do Cateto Oposto: 2.4\n",
      "Comprimento do Adjacente: 6.9\n",
      "A hipotenusa vai medir: 7.31\n"
     ]
    }
   ],
   "source": [
    "#calculando a Hipotenusa sem a utilização da Biblioteca math\n",
    "#entrada\n",
    "co = float(input('Comprimento do Cateto Oposto: '))\n",
    "ca = float(input('Comprimento do Adjacente: '))\n",
    "\n",
    "#processamento\n",
    "hi = (co ** 2 + ca ** 2) ** (1/2)\n",
    "\n",
    "#saída\n",
    "print('A hipotenusa vai medir: {:.2f}'.format(hi))"
   ]
  },
  {
   "cell_type": "code",
   "execution_count": 14,
   "metadata": {},
   "outputs": [
    {
     "name": "stdout",
     "output_type": "stream",
     "text": [
      "Comprimento do Cateto Oposto: 2.4\n",
      "Comprimento do Adjacente: 6.9\n",
      "A hipotenusa vai medir: 7.31\n"
     ]
    }
   ],
   "source": [
    "#utilizando a biblioteca math\n",
    "from math import hypot\n",
    "\n",
    "#entrada\n",
    "co = float(input('Comprimento do Cateto Oposto: '))\n",
    "ca = float(input('Comprimento do Adjacente: '))\n",
    "\n",
    "#processamento\n",
    "hi = hypot(co, ca)\n",
    "\n",
    "#saída\n",
    "print('A hipotenusa vai medir: {:.2f}'.format(hi))\n"
   ]
  },
  {
   "cell_type": "code",
   "execution_count": 18,
   "metadata": {},
   "outputs": [
    {
     "name": "stdout",
     "output_type": "stream",
     "text": [
      "Digite o ângulo que Deseja: 30\n",
      "O angulo de 30.0º tem:\n",
      "\n",
      "Seno\t\t0.50\n",
      "Cosseno\t\t0.87\n",
      "Tangente\t0.58\n"
     ]
    }
   ],
   "source": [
    "#Calculando o Seno, Cosseno, Taangente de um ângulo\n",
    "import math\n",
    "\n",
    "#entrada\n",
    "angulo = float(input('Digite o ângulo que Deseja: '))\n",
    "\n",
    "#processamento\n",
    "seno = math.sin(math.radians(angulo))\n",
    "cosseno = math.cos(math.radians(angulo))\n",
    "tangente = math.tan(math.radians(angulo))\n",
    "\n",
    "#saída\n",
    "print('O angulo de {}º tem:\\n\\nSeno\\t\\t{:.2f}\\nCosseno\\t\\t{:.2f}\\nTangente\\t{:.2f}'\n",
    "      .format(angulo, seno, cosseno, tangente))\n"
   ]
  },
  {
   "cell_type": "markdown",
   "metadata": {},
   "source": [
    "<h6>Alexandre Santos&#174;<br/>\n",
    "By 2018</h6>"
   ]
  }
 ],
 "metadata": {
  "kernelspec": {
   "display_name": "Python 3",
   "language": "python",
   "name": "python3"
  },
  "language_info": {
   "codemirror_mode": {
    "name": "ipython",
    "version": 3
   },
   "file_extension": ".py",
   "mimetype": "text/x-python",
   "name": "python",
   "nbconvert_exporter": "python",
   "pygments_lexer": "ipython3",
   "version": "3.7.0"
  }
 },
 "nbformat": 4,
 "nbformat_minor": 2
}

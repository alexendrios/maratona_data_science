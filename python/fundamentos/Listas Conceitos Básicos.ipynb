{
 "cells": [
  {
   "cell_type": "markdown",
   "metadata": {},
   "source": [
    "<font size =33 color=\"blue\"><center>Maratona Data Science</h1></font>\n",
    "<h1>Listas: Conceitos Básicos</h1>"
   ]
  },
  {
   "cell_type": "code",
   "execution_count": 8,
   "metadata": {},
   "outputs": [
    {
     "name": "stdout",
     "output_type": "stream",
     "text": [
      "<class 'list'>\n"
     ]
    }
   ],
   "source": [
    "# Criando uma Lista\n",
    "lista = []\n",
    "print(type(lista))"
   ]
  },
  {
   "cell_type": "code",
   "execution_count": 9,
   "metadata": {},
   "outputs": [
    {
     "name": "stdout",
     "output_type": "stream",
     "text": [
      "['arroz', 20, 10.5]\n"
     ]
    }
   ],
   "source": [
    "#Exemplo de Lista => Observe que uma Lista pode conter variáveis de qualquer tipo\n",
    "carrinho =  ['arroz', 20, 10.50]\n",
    "print(carrinho)"
   ]
  },
  {
   "cell_type": "code",
   "execution_count": 10,
   "metadata": {},
   "outputs": [
    {
     "name": "stdout",
     "output_type": "stream",
     "text": [
      "['arroz', 20, 10.5, 'Leite']\n"
     ]
    }
   ],
   "source": [
    "#adicionando elementos em uma Lista\n",
    "carrinho.append('Leite')\n",
    "print(carrinho)"
   ]
  },
  {
   "cell_type": "code",
   "execution_count": 11,
   "metadata": {},
   "outputs": [
    {
     "name": "stdout",
     "output_type": "stream",
     "text": [
      "['arroz', 20, 10.5, 'Leite']\n",
      "arroz\n",
      "Leite\n"
     ]
    }
   ],
   "source": [
    "#acessando elementos da Lista\n",
    "print(carrinho)\n",
    "print(carrinho[0])\n",
    "\n",
    "#acessando o último elemento de uma Lista\n",
    "\n",
    "print(carrinho[-1])\n"
   ]
  },
  {
   "cell_type": "code",
   "execution_count": 9,
   "metadata": {},
   "outputs": [
    {
     "data": {
      "text/plain": [
       "3"
      ]
     },
     "execution_count": 9,
     "metadata": {},
     "output_type": "execute_result"
    }
   ],
   "source": [
    "#buscando o índice de um elemento na Lista\n",
    "carrinho.index('Leite')"
   ]
  },
  {
   "cell_type": "code",
   "execution_count": 12,
   "metadata": {},
   "outputs": [
    {
     "name": "stdout",
     "output_type": "stream",
     "text": [
      "['arroz', 20, 10.5, 'Leite']\n",
      "['arroz', 'Macarrão', 10.5, 'Leite']\n"
     ]
    }
   ],
   "source": [
    "#mudando o elemento de uma lista\n",
    "print(carrinho)\n",
    "carrinho[1] = 'Macarrão'\n",
    "print(carrinho)"
   ]
  },
  {
   "cell_type": "code",
   "execution_count": 13,
   "metadata": {},
   "outputs": [
    {
     "name": "stdout",
     "output_type": "stream",
     "text": [
      "['arroz', 'Macarrão', 10.5, 'Leite']\n",
      "['arroz', 'Macarrão', 'Leite']\n"
     ]
    }
   ],
   "source": [
    "#Deletando elementos de uma Lista\n",
    "print(carrinho)\n",
    "del carrinho[2]\n",
    "print(carrinho)"
   ]
  },
  {
   "cell_type": "markdown",
   "metadata": {},
   "source": [
    "\n",
    "\n",
    "\n",
    "\n",
    "\n",
    "\n",
    "\n",
    "<h6>Alexandre Santos&#174;<br/>\n",
    "By 2018</h6>"
   ]
  }
 ],
 "metadata": {
  "kernelspec": {
   "display_name": "Python 3",
   "language": "python",
   "name": "python3"
  },
  "language_info": {
   "codemirror_mode": {
    "name": "ipython",
    "version": 3
   },
   "file_extension": ".py",
   "mimetype": "text/x-python",
   "name": "python",
   "nbconvert_exporter": "python",
   "pygments_lexer": "ipython3",
   "version": "3.7.0"
  }
 },
 "nbformat": 4,
 "nbformat_minor": 2
}

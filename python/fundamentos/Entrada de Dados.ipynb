{
 "cells": [
  {
   "cell_type": "markdown",
   "metadata": {},
   "source": [
    "<font size =33 color=\"blue\"><center>Maratona Data Science</h1></font>\n",
    "<h1>Entrada de Dados</h1>"
   ]
  },
  {
   "cell_type": "code",
   "execution_count": 1,
   "metadata": {},
   "outputs": [
    {
     "name": "stdout",
     "output_type": "stream",
     "text": [
      "44\n",
      "\n",
      "Saída\n",
      "->44\n"
     ]
    }
   ],
   "source": [
    "#método input() para interagir com entrada de dado\n",
    "a = input()\n",
    "\n",
    "#Será impresso o que for digitado pelo Teclado\n",
    "print('\\nSaída\\n->{}'.format(a))"
   ]
  },
  {
   "cell_type": "code",
   "execution_count": 2,
   "metadata": {},
   "outputs": [
    {
     "name": "stdout",
     "output_type": "stream",
     "text": [
      "------------------------------------\n",
      "\n",
      "Soma de Valores:\n",
      "\n",
      "------------------------------------\n",
      "\n",
      "Informe o valor para o primeiro número:\t=>22\n",
      "Informe o valor para o segundo número:\t=>33\n",
      "\n",
      "\n",
      "------------------------------------\n",
      "\tA soma é igual a: 55\n",
      "------------------------------------\n"
     ]
    }
   ],
   "source": [
    "#Operação de Caiculo\n",
    "print('------------------------------------')\n",
    "print('\\nSoma de Valores:\\n')\n",
    "print('------------------------------------')\n",
    "\n",
    "#Atenção nesse ponto pois é necessário parssar o resultado recebido para um valor inteiro\n",
    "\n",
    "n1 = int(input('\\nInforme o valor para o primeiro número:\\t=>'))\n",
    "n2 = int(input('Informe o valor para o segundo número:\\t=>'))\n",
    "\n",
    "soma = n1 + n2\n",
    "\n",
    "print('\\n\\n------------------------------------')\n",
    "print('\\tA soma é igual a: {}'.format(soma))\n",
    "print('------------------------------------')"
   ]
  },
  {
   "cell_type": "code",
   "execution_count": 4,
   "metadata": {},
   "outputs": [
    {
     "name": "stdout",
     "output_type": "stream",
     "text": [
      "44 23\n",
      "67\n"
     ]
    }
   ],
   "source": [
    "#Entrando dados na mesma linha \n",
    "\n",
    "a, b = input().split()\n",
    "\n",
    "n1 = int(a)\n",
    "n2 = int(b)\n",
    "\n",
    "print(n1 + n2)"
   ]
  },
  {
   "cell_type": "markdown",
   "metadata": {},
   "source": [
    "\n",
    "\n",
    "\n",
    "\n",
    "\n",
    "\n",
    "\n",
    "<h6>Alexandre Santos&#174;<br/>\n",
    "By 2018</h6>"
   ]
  }
 ],
 "metadata": {
  "kernelspec": {
   "display_name": "Python 3",
   "language": "python",
   "name": "python3"
  },
  "language_info": {
   "codemirror_mode": {
    "name": "ipython",
    "version": 3
   },
   "file_extension": ".py",
   "mimetype": "text/x-python",
   "name": "python",
   "nbconvert_exporter": "python",
   "pygments_lexer": "ipython3",
   "version": "3.7.0"
  }
 },
 "nbformat": 4,
 "nbformat_minor": 2
}

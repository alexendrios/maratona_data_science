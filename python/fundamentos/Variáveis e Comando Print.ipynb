{
 "cells": [
  {
   "cell_type": "markdown",
   "metadata": {},
   "source": [
    "<font size =33 color=\"blue\"><center>Maratona Data Science</h1></font>\n",
    "<h1>Variáveis e comando Print</h1>"
   ]
  },
  {
   "cell_type": "code",
   "execution_count": 26,
   "metadata": {},
   "outputs": [],
   "source": [
    "#variável string (str)\n",
    "nome = 'Alexandre'"
   ]
  },
  {
   "cell_type": "code",
   "execution_count": 27,
   "metadata": {},
   "outputs": [],
   "source": [
    "#variávél inteira (int)\n",
    "numero = 10"
   ]
  },
  {
   "cell_type": "code",
   "execution_count": 28,
   "metadata": {},
   "outputs": [],
   "source": [
    "#variável flutuante (float)\n",
    "preco = 10.5\n"
   ]
  },
  {
   "cell_type": "code",
   "execution_count": 29,
   "metadata": {},
   "outputs": [],
   "source": [
    "#variável booleana (bool)\n",
    "condicao = True"
   ]
  },
  {
   "cell_type": "code",
   "execution_count": 30,
   "metadata": {
    "scrolled": true
   },
   "outputs": [
    {
     "name": "stdout",
     "output_type": "stream",
     "text": [
      "Saídas das variáveis declaradas: \n",
      "\n",
      "Tipo string:\tAlexandre\n",
      "Tipo inteiro:\t10\n",
      "Tipo flutuante:\t10.5\n",
      "tipo booleane:\tTrue\n"
     ]
    }
   ],
   "source": [
    "#imprimindo na Tela\n",
    "print('Saídas das variáveis declaradas: \\n\\nTipo string:\\t{}\\nTipo inteiro:\\t{}\\nTipo flutuante:\\t{}\\ntipo booleane:\\t{}'.format(nome,\n",
    "    numero, preco, condicao))"
   ]
  },
  {
   "cell_type": "markdown",
   "metadata": {},
   "source": [
    "\n",
    "\n",
    "\n",
    "\n",
    "\n",
    "\n",
    "\n",
    "<h6>Alexandre Santos&#174;<br/>\n",
    "By 2018</h6>"
   ]
  }
 ],
 "metadata": {
  "kernelspec": {
   "display_name": "Python 3",
   "language": "python",
   "name": "python3"
  },
  "language_info": {
   "codemirror_mode": {
    "name": "ipython",
    "version": 3
   },
   "file_extension": ".py",
   "mimetype": "text/x-python",
   "name": "python",
   "nbconvert_exporter": "python",
   "pygments_lexer": "ipython3",
   "version": "3.7.0"
  }
 },
 "nbformat": 4,
 "nbformat_minor": 2
}

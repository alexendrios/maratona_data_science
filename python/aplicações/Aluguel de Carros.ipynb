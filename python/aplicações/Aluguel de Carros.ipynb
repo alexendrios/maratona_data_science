{
 "cells": [
  {
   "cell_type": "markdown",
   "metadata": {},
   "source": [
    "<center><font size='36' color ='#00BDCE'>Aluguel de Carros</font></center>"
   ]
  },
  {
   "cell_type": "markdown",
   "metadata": {},
   "source": [
    "<b>Software que tem o objetivo de calcular o valor pago por um aluguel de carro, seguindo os parâmetros R$60,00 o por dia e R$0.15 a cada Km rodado, A logíca utilizada neste, foi o tratamento de dois inputs sendo um float e outro int, operações Matemáticas, sendo multiplicação e adição</b>"
   ]
  },
  {
   "cell_type": "code",
   "execution_count": 2,
   "metadata": {},
   "outputs": [
    {
     "name": "stdout",
     "output_type": "stream",
     "text": [
      "\t\t\tAlugel de Carros\n",
      "--------------------------------------------------\n",
      "Informe a Quantidade de KM rodado: 6000\n",
      "Informe a Quantidade de Dias que ficou com o veículo: 3\n",
      "--------------------------------------------------\n",
      "\t\t\tValor a pagar\n",
      "Dias com Veículo\t3\n",
      "KM Rodados\t\t6000.0\n",
      "Valor a pagar R$\t1080.00\n"
     ]
    }
   ],
   "source": [
    "#Entrada\n",
    "print('\\t\\t\\tAlugel de Carros')\n",
    "print('-' * 50)\n",
    "km = float(input('Informe a Quantidade de KM rodado: '))\n",
    "dias = int(input('Informe a Quantidade de Dias que ficou com o veículo: '))\n",
    "\n",
    "#Processamento\n",
    "valor_aluguel = (km * 0.15) + (dias * 60)\n",
    "\n",
    "#Saída\n",
    "print('-' * 50)\n",
    "print('\\t\\t\\tValor a pagar')\n",
    "print('Dias com Veículo\\t{}\\nKM Rodados\\t\\t{}\\nValor a pagar R$\\t{:.2f}'\n",
    "      .format(dias, km, valor_aluguel))\n"
   ]
  },
  {
   "cell_type": "markdown",
   "metadata": {},
   "source": [
    "<h6>Alexandre Santos&#174;<br/>\n",
    "By 2018</h6>"
   ]
  }
 ],
 "metadata": {
  "kernelspec": {
   "display_name": "Python 3",
   "language": "python",
   "name": "python3"
  },
  "language_info": {
   "codemirror_mode": {
    "name": "ipython",
    "version": 3
   },
   "file_extension": ".py",
   "mimetype": "text/x-python",
   "name": "python",
   "nbconvert_exporter": "python",
   "pygments_lexer": "ipython3",
   "version": "3.7.0"
  }
 },
 "nbformat": 4,
 "nbformat_minor": 2
}

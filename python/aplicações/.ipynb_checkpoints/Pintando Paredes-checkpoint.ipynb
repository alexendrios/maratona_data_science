{
 "cells": [
  {
   "cell_type": "markdown",
   "metadata": {},
   "source": [
    "<center><font size='36' color ='#00BDCE'>Pintando Paredes</font></center>"
   ]
  },
  {
   "cell_type": "markdown",
   "metadata": {},
   "source": [
    "<b>software que tem o objetivo de calcular a dimensões em metros quadrados, dado que eu tenho a Largura e Altura, para realizar a pintura seguimos a premissa que 01 litro de tinta pinta 2 metros quadrados</b>"
   ]
  },
  {
   "cell_type": "code",
   "execution_count": 7,
   "metadata": {},
   "outputs": [
    {
     "name": "stdout",
     "output_type": "stream",
     "text": [
      "Informe a largura da parede em metros: 5\n",
      "Informe a altura da Parede em metros: 5\n",
      "\n",
      "\t\t\tPintado Parede\n",
      "-----------------------------------------------------------------\n",
      "A dimensão é 5.0 X 5.0 equivalente a 25.00m2\n",
      "para realizar a pintura será necessário 12.5 litro(s) de Tinta(s) \n",
      "-----------------------------------------------------------------\n"
     ]
    }
   ],
   "source": [
    "#entrada\n",
    "largura = float(input('Informe a largura da parede em metros: '))\n",
    "altura = float(input('Informe a altura da Parede em metros: '))\n",
    "\n",
    "#processamento\n",
    "area = largura * altura\n",
    "qtd_tinta = area / 2\n",
    "\n",
    "#saída\n",
    "print('\\n\\t\\t\\tPintado Parede')\n",
    "print('-' * 65)\n",
    "print('A dimensão é {} X {} equivalente a {:.2f}m2\\n'\n",
    "      'para realizar a pintura será necessário {:.1f} litro(s) de Tinta(s) '\n",
    "      .format(largura, altura, area, qtd_tinta))\n",
    "print('-' * 65)\n"
   ]
  },
  {
   "cell_type": "markdown",
   "metadata": {},
   "source": [
    "<h6>Alexandre Santos&#174;<br/>\n",
    "By 2018</h6>"
   ]
  }
 ],
 "metadata": {
  "kernelspec": {
   "display_name": "Python 3",
   "language": "python",
   "name": "python3"
  },
  "language_info": {
   "codemirror_mode": {
    "name": "ipython",
    "version": 3
   },
   "file_extension": ".py",
   "mimetype": "text/x-python",
   "name": "python",
   "nbconvert_exporter": "python",
   "pygments_lexer": "ipython3",
   "version": "3.7.0"
  }
 },
 "nbformat": 4,
 "nbformat_minor": 2
}

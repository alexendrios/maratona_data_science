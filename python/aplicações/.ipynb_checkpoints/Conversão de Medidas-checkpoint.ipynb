{
 "cells": [
  {
   "cell_type": "markdown",
   "metadata": {},
   "source": [
    "<center><font size='36' color ='#00BDCE'>Conversor de Medidas</font></center>"
   ]
  },
  {
   "cell_type": "markdown",
   "metadata": {},
   "source": [
    "<b>A proposta aqui presente é uma aplicação simples para demonstrar a entrada de dados de forma convertida, operações matemática simples e a saída usando a função format.</b>"
   ]
  },
  {
   "cell_type": "code",
   "execution_count": 2,
   "metadata": {},
   "outputs": [
    {
     "name": "stdout",
     "output_type": "stream",
     "text": [
      "Informe uma distância em metros: 10\n",
      "\n",
      "--------Conversor de Medidas-----------\n",
      "A medida 10.0 metros equivale:\n",
      "DM:\t100.000000\n",
      "CM:\t1000.000000\n",
      "MM:\t10000.000000\n",
      "KM:\t0.010\n",
      "HM:\t0.10\n",
      "DAM\t1.0\n",
      "---------------------------------------\n"
     ]
    }
   ],
   "source": [
    "#Dados de Entrda:\n",
    "medida = float(input('Informe uma distância em metros: '))\n",
    "\n",
    "#processamento\n",
    "dm = medida * 10\n",
    "cm = medida * 100\n",
    "mm = medida * 1000\n",
    "km = medida / 1000\n",
    "hm = medida / 100\n",
    "dam = medida / 10\n",
    "\n",
    "#saída\n",
    "print('\\n--------Conversor de Medidas-----------\\n'\n",
    "      'A medida {} metros equivale:\\n'\n",
    "      'DM:\\t{:0f}\\nCM:\\t{:0f}\\nMM:\\t{:0f}\\nKM:\\t{:.3f}\\nHM:\\t{:.2f}\\nDAM\\t{:.1f}'\n",
    "      '\\n---------------------------------------'\n",
    "      ''.format(medida, dm, cm, mm, km, hm, dam))\n"
   ]
  },
  {
   "cell_type": "markdown",
   "metadata": {},
   "source": [
    "<font color='blue'>* Neste exemplo foi utilizado caracteres especiais, como a tabulação (\\t) e a quebra de linha (\\n)</font>"
   ]
  },
  {
   "cell_type": "markdown",
   "metadata": {},
   "source": [
    "<h6>Alexandre Santos&#174;<br/>\n",
    "By 2018</h6>"
   ]
  }
 ],
 "metadata": {
  "kernelspec": {
   "display_name": "Python 3",
   "language": "python",
   "name": "python3"
  },
  "language_info": {
   "codemirror_mode": {
    "name": "ipython",
    "version": 3
   },
   "file_extension": ".py",
   "mimetype": "text/x-python",
   "name": "python",
   "nbconvert_exporter": "python",
   "pygments_lexer": "ipython3",
   "version": "3.7.0"
  }
 },
 "nbformat": 4,
 "nbformat_minor": 2
}

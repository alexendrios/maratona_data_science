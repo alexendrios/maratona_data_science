{
 "cells": [
  {
   "cell_type": "markdown",
   "metadata": {},
   "source": [
    "<center><font size='36' color ='#00BDCE'>Analisando um Número</font></center>"
   ]
  },
  {
   "cell_type": "markdown",
   "metadata": {},
   "source": [
    "<b>Software que tem o objetivo de decompor um número, utilizando operações matemáticas como divisão inteira e módulo.</b>"
   ]
  },
  {
   "cell_type": "code",
   "execution_count": 2,
   "metadata": {},
   "outputs": [
    {
     "name": "stdout",
     "output_type": "stream",
     "text": [
      "Informe o numero a ser analisado de 0 a 9999: 9234\n",
      "\n",
      "Analisando o Número 9234\n",
      "Unidade:\t4\n",
      "Dezena:\t\t3\n",
      "Centena:\t2\n",
      "Milhara:\t9\n"
     ]
    }
   ],
   "source": [
    "#entrada\n",
    "numero = int(input('Informe o numero a ser analisado de 0 a 9999: '))\n",
    "\n",
    "#processamento\n",
    "u = numero // 1 % 10\n",
    "d = numero // 10 % 10\n",
    "c = numero // 100 % 10\n",
    "m = numero // 1000 % 10\n",
    "\n",
    "#milhar\n",
    "print('\\nAnalisando o Número {}'.format(numero))\n",
    "print('Unidade:\\t{}'.format(u))\n",
    "print('Dezena:\\t\\t{}'.format(d))\n",
    "print('Centena:\\t{}'.format(c))\n",
    "print('Milhara:\\t{}'.format(m))"
   ]
  },
  {
   "cell_type": "markdown",
   "metadata": {},
   "source": [
    "<h6>Alexandre Santos&#174;<br/>\n",
    "By 2018</h6>"
   ]
  }
 ],
 "metadata": {
  "kernelspec": {
   "display_name": "Python 3",
   "language": "python",
   "name": "python3"
  },
  "language_info": {
   "codemirror_mode": {
    "name": "ipython",
    "version": 3
   },
   "file_extension": ".py",
   "mimetype": "text/x-python",
   "name": "python",
   "nbconvert_exporter": "python",
   "pygments_lexer": "ipython3",
   "version": "3.7.0"
  }
 },
 "nbformat": 4,
 "nbformat_minor": 2
}

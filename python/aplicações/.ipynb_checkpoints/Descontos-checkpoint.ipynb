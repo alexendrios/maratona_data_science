{
 "cells": [
  {
   "cell_type": "markdown",
   "metadata": {},
   "source": [
    "<center><font size='36' color ='#00BDCE'>Descontos</font></center>"
   ]
  },
  {
   "cell_type": "markdown",
   "metadata": {},
   "source": [
    "<b>Software que tem o Objetivo para calcular desconto de 5% em relação a uma Compra com um valor X reais</b>"
   ]
  },
  {
   "cell_type": "code",
   "execution_count": 4,
   "metadata": {},
   "outputs": [
    {
     "name": "stdout",
     "output_type": "stream",
     "text": [
      "Insira o valor da Compra R$ 250\n",
      "\n",
      "\t-----------\tDescontos\t----------\n",
      "Total da Compra\t\t250.00\n",
      "Desconto de 5%\t\t12.50\n",
      "Total a Pagar R$\t237.50\n",
      "--------------------------------------------------\n"
     ]
    }
   ],
   "source": [
    "#Entrada\n",
    "valor = float(input('Insira o valor da Compra R$ '))\n",
    "\n",
    "#Processamento\n",
    "desconto = valor * 0.05\n",
    "valor_pagar = valor - desconto\n",
    "\n",
    "#Saída\n",
    "print('\\n\\t-----------\\tDescontos\\t----------')\n",
    "print('Total da Compra\\t\\t{:.2f}\\nDesconto de 5%\\t\\t{:.2f}\\n'\n",
    "      'Total a Pagar R$\\t{:.2f}'.format(valor, desconto, valor_pagar))\n",
    "print('-' * 50)\n"
   ]
  },
  {
   "cell_type": "markdown",
   "metadata": {},
   "source": [
    "<h6>Alexandre Santos&#174;<br/>\n",
    "By 2018</h6>"
   ]
  }
 ],
 "metadata": {
  "kernelspec": {
   "display_name": "Python 3",
   "language": "python",
   "name": "python3"
  },
  "language_info": {
   "codemirror_mode": {
    "name": "ipython",
    "version": 3
   },
   "file_extension": ".py",
   "mimetype": "text/x-python",
   "name": "python",
   "nbconvert_exporter": "python",
   "pygments_lexer": "ipython3",
   "version": "3.7.0"
  }
 },
 "nbformat": 4,
 "nbformat_minor": 2
}

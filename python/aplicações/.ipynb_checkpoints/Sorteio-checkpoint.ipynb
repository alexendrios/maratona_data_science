{
 "cells": [
  {
   "cell_type": "markdown",
   "metadata": {},
   "source": [
    "<center><font size='36' color ='#00BDCE'>Sorteio</font></center>"
   ]
  },
  {
   "cell_type": "markdown",
   "metadata": {},
   "source": [
    "<b>Software que tem o objetivo de Realizar um sorteio, As diretivas são uma Lista de String e a biblioteca Random</b>"
   ]
  },
  {
   "cell_type": "code",
   "execution_count": 3,
   "metadata": {},
   "outputs": [
    {
     "name": "stdout",
     "output_type": "stream",
     "text": [
      "Entre com os nomes para Ser realizado o sorteio: Lucas Pedro Ricardo Alexandre\n",
      "\n",
      "--------------------- Sorteio ----------------------\n",
      "O nome escolhido foi: ***** Pedro ******\n",
      "----------------------------------------------------\n"
     ]
    }
   ],
   "source": [
    "import random\n",
    "#entrada\n",
    "lista = input('Entre com os nomes para Ser realizado o sorteio: ').split()\n",
    "\n",
    "#processamento\n",
    "sorteio = random.choice(lista)\n",
    "\n",
    "#saída\n",
    "print('\\n--------------------- Sorteio ----------------------')\n",
    "print('O nome escolhido foi: ***** {} ******'.format(sorteio))\n",
    "print('-' * 52)\n"
   ]
  },
  {
   "cell_type": "markdown",
   "metadata": {},
   "source": [
    "<h6>Alexandre Santos&#174;<br/>\n",
    "By 2018</h6>"
   ]
  }
 ],
 "metadata": {
  "kernelspec": {
   "display_name": "Python 3",
   "language": "python",
   "name": "python3"
  },
  "language_info": {
   "codemirror_mode": {
    "name": "ipython",
    "version": 3
   },
   "file_extension": ".py",
   "mimetype": "text/x-python",
   "name": "python",
   "nbconvert_exporter": "python",
   "pygments_lexer": "ipython3",
   "version": "3.7.0"
  }
 },
 "nbformat": 4,
 "nbformat_minor": 2
}

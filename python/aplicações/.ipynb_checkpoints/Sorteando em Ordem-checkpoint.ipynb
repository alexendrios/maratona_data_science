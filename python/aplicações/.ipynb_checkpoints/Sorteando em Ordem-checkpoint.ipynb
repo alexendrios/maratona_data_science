{
 "cells": [
  {
   "cell_type": "markdown",
   "metadata": {},
   "source": [
    "<center><font size='36' color ='#00BDCE'>Sorteio em Ordem</font></center>"
   ]
  },
  {
   "cell_type": "markdown",
   "metadata": {},
   "source": [
    "<b>Software que Sorteia a Ordem de uma Lista, foi utilizada a biblioteca Random e a estrutura de repetição for</b>"
   ]
  },
  {
   "cell_type": "code",
   "execution_count": 1,
   "metadata": {},
   "outputs": [
    {
     "name": "stdout",
     "output_type": "stream",
     "text": [
      "Entre com os nomes para Ser realizado a Ordem: Ana Pedro Ricardo Alexandre José\n",
      "\n",
      "--------------------- Sorteio de Ordem-------------------\n",
      "1 Alexandre\n",
      "2 Pedro\n",
      "3 Ana\n",
      "4 José\n",
      "5 Ricardo\n",
      "---------------------------------------------------------\n"
     ]
    }
   ],
   "source": [
    "from random import shuffle\n",
    "#entrada\n",
    "lista = input('Entre com os nomes para Ser realizado a Ordem: ').split()\n",
    "\n",
    "#processamento\n",
    "sorteio = lista\n",
    "shuffle(sorteio)\n",
    "\n",
    "#saída\n",
    "print('\\n--------------------- Sorteio de Ordem-------------------')\n",
    "for i in range(len(lista)):\n",
    "    print(i + 1, sorteio[i])\n",
    "\n",
    "print('-' * 57)\n"
   ]
  },
  {
   "cell_type": "markdown",
   "metadata": {},
   "source": [
    "<h6>Alexandre Santos&#174;<br/>\n",
    "By 2018</h6>"
   ]
  }
 ],
 "metadata": {
  "kernelspec": {
   "display_name": "Python 3",
   "language": "python",
   "name": "python3"
  },
  "language_info": {
   "codemirror_mode": {
    "name": "ipython",
    "version": 3
   },
   "file_extension": ".py",
   "mimetype": "text/x-python",
   "name": "python",
   "nbconvert_exporter": "python",
   "pygments_lexer": "ipython3",
   "version": "3.7.0"
  }
 },
 "nbformat": 4,
 "nbformat_minor": 2
}

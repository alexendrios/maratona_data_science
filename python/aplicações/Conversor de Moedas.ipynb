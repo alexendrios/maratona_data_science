{
 "cells": [
  {
   "cell_type": "markdown",
   "metadata": {},
   "source": [
    "<center><font size='36' color ='#00BDCE'>Conversor de Moedas</font></center>"
   ]
  },
  {
   "cell_type": "markdown",
   "metadata": {},
   "source": [
    "<b>Software de conversão de moedas, uma simples aplicação demonstrando a entrada de um número flutuante, Cálculos Matemáticos Multiplicação e Divisão resuntando na sáida dos dados, com as respectivas conversões</b>"
   ]
  },
  {
   "cell_type": "code",
   "execution_count": 5,
   "metadata": {},
   "outputs": [
    {
     "name": "stdout",
     "output_type": "stream",
     "text": [
      "Informe o valor \tR$: 1000\n",
      "\n",
      "----- Converão de Moedas -----\n",
      "Dolar:\t\t256.74\n",
      "Euro:\t\t225.23\n",
      "Libras:\t\t210.53\n",
      "Guarani:\t1512470.00\n",
      "Pesos:\t\t9566.20\n",
      "Yuan:\t\t1766.70\n",
      "------------------------------\n"
     ]
    }
   ],
   "source": [
    "#Entrada\n",
    "valor = float(input('Informe o valor \\tR$: '))\n",
    "\n",
    "#processamento\n",
    "dolar = valor / 3.8950\n",
    "euro = valor / 4.44\n",
    "libra = valor / 4.75\n",
    "guarani = 1512.47 * valor\n",
    "pesos = 9.5662 * valor\n",
    "yuan = 1.7667006799477405 * valor\n",
    "\n",
    "#saída\n",
    "print()\n",
    "print('-' * 5, 'Converão de Moedas', '-' * 5)\n",
    "print('Dolar:\\t\\t{:.2f}\\nEuro:\\t\\t{:.2f}\\nLibras:\\t\\t{:.2f}\\n'\n",
    "      'Guarani:\\t{:.2f}\\nPesos:\\t\\t{:.2f}\\nYuan:\\t\\t{:.2f}'\n",
    "      .format(dolar, euro, libra, guarani, pesos, yuan))\n",
    "print('-' * 30)"
   ]
  },
  {
   "cell_type": "markdown",
   "metadata": {},
   "source": [
    "<h6>Alexandre Santos&#174;<br/>\n",
    "By 2018</h6>"
   ]
  }
 ],
 "metadata": {
  "kernelspec": {
   "display_name": "Python 3",
   "language": "python",
   "name": "python3"
  },
  "language_info": {
   "codemirror_mode": {
    "name": "ipython",
    "version": 3
   },
   "file_extension": ".py",
   "mimetype": "text/x-python",
   "name": "python",
   "nbconvert_exporter": "python",
   "pygments_lexer": "ipython3",
   "version": "3.7.0"
  }
 },
 "nbformat": 4,
 "nbformat_minor": 2
}

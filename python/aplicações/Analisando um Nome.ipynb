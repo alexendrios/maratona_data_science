{
 "cells": [
  {
   "cell_type": "markdown",
   "metadata": {},
   "source": [
    "<center><font size='36' color ='#00BDCE'>Analisando um Nome</font></center>"
   ]
  },
  {
   "cell_type": "markdown",
   "metadata": {},
   "source": [
    "<b>Software que análise um nome como entrada, o objetivo é trabalhar com a manipulação de Strings</b>"
   ]
  },
  {
   "cell_type": "code",
   "execution_count": 1,
   "metadata": {},
   "outputs": [
    {
     "name": "stdout",
     "output_type": "stream",
     "text": [
      "Informe o nome para Analizar: Maria Tereza Neta Bezerra de Alcântara e Bueno\n",
      "\n",
      "Seu nome analisado é \n",
      "----------------------------------------------------------------------\n",
      "Nome em Maíscula MARIA TEREZA NETA BEZERRA DE ALCÂNTARA E BUENO\n",
      "Nome em minúsculo maria tereza neta bezerra de alcântara e bueno\n",
      "seu nome Tem ao todo 39 letras\n",
      "Seu primeiro nome é MARIA e tem 5 letras\n",
      "----------------------------------------------------------------------\n"
     ]
    }
   ],
   "source": [
    "#entrada\n",
    "nome = input('Informe o nome para Analizar: ').strip()\n",
    "\n",
    "#saída\n",
    "print('\\nSeu nome analisado é ')\n",
    "print('-' * 70)\n",
    "print('Nome em Maíscula {}'.format(nome.upper()))\n",
    "print('Nome em minúsculo {}'.format(nome.lower()))\n",
    "print('seu nome Tem ao todo {} letras'.format(len(nome) - nome.count(' ')))\n",
    "es = nome.find(' ')\n",
    "primeiro_nome = nome[:es].upper()\n",
    "print('Seu primeiro nome é {} e tem {} letras'.format(primeiro_nome, len(primeiro_nome)))\n",
    "print('-' * 70)\n"
   ]
  },
  {
   "cell_type": "markdown",
   "metadata": {},
   "source": [
    "<h6>Alexandre Santos&#174;<br/>\n",
    "By 2018</h6>"
   ]
  }
 ],
 "metadata": {
  "kernelspec": {
   "display_name": "Python 3",
   "language": "python",
   "name": "python3"
  },
  "language_info": {
   "codemirror_mode": {
    "name": "ipython",
    "version": 3
   },
   "file_extension": ".py",
   "mimetype": "text/x-python",
   "name": "python",
   "nbconvert_exporter": "python",
   "pygments_lexer": "ipython3",
   "version": "3.7.0"
  }
 },
 "nbformat": 4,
 "nbformat_minor": 2
}

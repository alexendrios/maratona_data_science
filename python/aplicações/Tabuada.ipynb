{
 "cells": [
  {
   "cell_type": "markdown",
   "metadata": {},
   "source": [
    "<center><font size='36' color ='#00BDCE'>Tabuada</font></center>"
   ]
  },
  {
   "cell_type": "markdown",
   "metadata": {},
   "source": [
    "<b>Software visando a demonstração de uma entrada de um inteiro e a utilização da Estrutura de Repetição for</b>"
   ]
  },
  {
   "cell_type": "code",
   "execution_count": 8,
   "metadata": {},
   "outputs": [
    {
     "name": "stdout",
     "output_type": "stream",
     "text": [
      "Digite um Número para ver a Tabuada: 9\n",
      "------------\n",
      " 9 X  1 =  9\n",
      " 9 X  2 = 18\n",
      " 9 X  3 = 27\n",
      " 9 X  4 = 36\n",
      " 9 X  5 = 45\n",
      " 9 X  6 = 54\n",
      " 9 X  7 = 63\n",
      " 9 X  8 = 72\n",
      " 9 X  9 = 81\n",
      " 9 X 10 = 90\n",
      "------------\n"
     ]
    }
   ],
   "source": [
    "#Entrada de Dados\n",
    "tabuada = int(input('Digite um Número para ver a Tabuada: '))\n",
    "resultado = 0\n",
    "\n",
    "#Processamento\n",
    "print('-' * 12)\n",
    "\n",
    "for i in range(1, 11):\n",
    "    resultado = tabuada * i\n",
    "#Saída\n",
    "    print('{:2} X {:2} = {:2}'.format(tabuada, i, resultado))\n",
    "\n",
    "print('-' * 12)\n"
   ]
  },
  {
   "cell_type": "markdown",
   "metadata": {},
   "source": [
    "<font color='blue'>* Neste exemplo foi utilizado caracteres especiais, como a tabulação (\\t) e o método:<br/><font color='red'><b>print('-' * 12)</font></b>:<br/>pois este configurado desta forma irá multiplica a String, '-' vai ser impresso 12 vezes</font></font>"
   ]
  },
  {
   "cell_type": "markdown",
   "metadata": {},
   "source": [
    "<h6>Alexandre Santos&#174;<br/>\n",
    "By 2018</h6>"
   ]
  }
 ],
 "metadata": {
  "kernelspec": {
   "display_name": "Python 3",
   "language": "python",
   "name": "python3"
  },
  "language_info": {
   "codemirror_mode": {
    "name": "ipython",
    "version": 3
   },
   "file_extension": ".py",
   "mimetype": "text/x-python",
   "name": "python",
   "nbconvert_exporter": "python",
   "pygments_lexer": "ipython3",
   "version": "3.7.0"
  }
 },
 "nbformat": 4,
 "nbformat_minor": 2
}
